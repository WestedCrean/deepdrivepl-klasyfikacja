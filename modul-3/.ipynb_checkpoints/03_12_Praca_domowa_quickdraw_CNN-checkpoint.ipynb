{
 "cells": [
  {
   "cell_type": "markdown",
   "metadata": {
    "id": "GAXU4xD2GQTx"
   },
   "source": [
    "# DDPLKO Moduł 3 - praca domowa - pierwszy własny trening CNN"
   ]
  },
  {
   "cell_type": "code",
   "execution_count": 1,
   "metadata": {
    "ExecuteTime": {
     "end_time": "2023-07-10T21:15:43.273435Z",
     "start_time": "2023-07-10T21:15:37.465728Z"
    }
   },
   "outputs": [
    {
     "name": "stdout",
     "output_type": "stream",
     "text": [
      "WARNING:tensorflow:From <ipython-input-1-ae227f77e4d3>:5: is_gpu_available (from tensorflow.python.framework.test_util) is deprecated and will be removed in a future version.\n",
      "Instructions for updating:\n",
      "Use `tf.config.list_physical_devices('GPU')` instead.\n",
      "GPU available:  True\n",
      "CPU count:  16\n"
     ]
    }
   ],
   "source": [
    "# import tensorflow and check if gpu is available and how many cpu cores are available. Print results.\n",
    "\n",
    "import tensorflow as tf\n",
    "\n",
    "is_gpu_available = tf.test.is_gpu_available()\n",
    "\n",
    "# check cpu thread count\n",
    "import multiprocessing as mp\n",
    "cpu_count = mp.cpu_count()\n",
    "\n",
    "print(\"GPU available: \", is_gpu_available)\n",
    "print(\"CPU count: \", cpu_count)"
   ]
  },
  {
   "cell_type": "code",
   "execution_count": 2,
   "metadata": {
    "ExecuteTime": {
     "end_time": "2023-07-10T21:15:43.278143Z",
     "start_time": "2023-07-10T21:15:43.275570Z"
    },
    "id": "OMD7z8rIGQTy"
   },
   "outputs": [],
   "source": [
    "import urllib\n",
    "import numpy as np\n",
    "import matplotlib.pyplot as plt\n",
    "import os"
   ]
  },
  {
   "cell_type": "markdown",
   "metadata": {
    "id": "i25sZrZuGQTz"
   },
   "source": [
    "# Wybierz 10 klas\n",
    "\n",
    "Poniżej przygotuj listę 10 klas z:\n",
    "https://quickdraw.withgoogle.com/data\n",
    "\n",
    "> nazwy takie jak nazwy obiektów (wyświetlane po najechaniu lub kliknięciu)"
   ]
  },
  {
   "cell_type": "code",
   "execution_count": 3,
   "metadata": {
    "ExecuteTime": {
     "end_time": "2023-07-10T21:15:43.284892Z",
     "start_time": "2023-07-10T21:15:43.279930Z"
    },
    "id": "doSWI0kNGQTz"
   },
   "outputs": [],
   "source": [
    "class_names = [\"airplane\", \"banana\", \"cookie\", \"diamond\", \"dog\", \"hot air balloon\", \"knife\" ,\"parachute\", \"scissors\", \"wine glass\"]"
   ]
  },
  {
   "cell_type": "markdown",
   "metadata": {
    "id": "_wDG6qi9GQT0"
   },
   "source": [
    "## Test"
   ]
  },
  {
   "cell_type": "code",
   "execution_count": 4,
   "metadata": {
    "ExecuteTime": {
     "end_time": "2023-07-10T21:15:43.289461Z",
     "start_time": "2023-07-10T21:15:43.286590Z"
    },
    "id": "O34Tc3kFGQT0"
   },
   "outputs": [],
   "source": [
    "assert len(class_names)==10, 'Nazw powinno być dokładnie 10'\n",
    "for i in range(len(class_names)):\n",
    "    assert type(class_names[i])==str, 'Każda z nazw powinna być typu str'\n",
    "    assert '/' not in class_names[i], 'Same nazwy klas, ze spacjami, bez ukośników'"
   ]
  },
  {
   "cell_type": "markdown",
   "metadata": {
    "id": "oNUGd416GQT1"
   },
   "source": [
    "# Wczytanie danych\n",
    "Pobieranie plików z obrazami w formaci npy (numpy)"
   ]
  },
  {
   "cell_type": "code",
   "execution_count": 5,
   "metadata": {
    "ExecuteTime": {
     "end_time": "2023-07-10T21:15:43.294701Z",
     "start_time": "2023-07-10T21:15:43.291069Z"
    },
    "colab": {
     "base_uri": "https://localhost:8080/"
    },
    "id": "hewim9S3GQT1",
    "outputId": "96e50a43-0613-497a-a9dc-143d5fd2d653"
   },
   "outputs": [],
   "source": [
    "for name in class_names:\n",
    "    url = 'https://storage.googleapis.com/quickdraw_dataset/full/numpy_bitmap/%s.npy'%name\n",
    "    file_name = url.split('/')[-1].split('?')[0]\n",
    "\n",
    "    url = url.replace(' ','%20')\n",
    "\n",
    "    if not os.path.isfile(file_name):\n",
    "        print(url, '==>', file_name)\n",
    "        urllib.request.urlretrieve(url, file_name)"
   ]
  },
  {
   "cell_type": "markdown",
   "metadata": {
    "id": "Ml7svZzKGQT2"
   },
   "source": [
    "## Wczytywanie z plików .npy\n",
    "Dane znajdziesz w tablicy data"
   ]
  },
  {
   "cell_type": "code",
   "execution_count": 6,
   "metadata": {
    "ExecuteTime": {
     "end_time": "2023-07-10T21:15:44.191151Z",
     "start_time": "2023-07-10T21:15:43.312565Z"
    },
    "colab": {
     "base_uri": "https://localhost:8080/"
    },
    "id": "lDhyYBI4GQT3",
    "outputId": "c316fb37-bf8e-446c-a925-a3cc08859a4a"
   },
   "outputs": [
    {
     "name": "stdout",
     "output_type": "stream",
     "text": [
      "airplane        <class 'numpy.ndarray'>\n",
      "banana          <class 'numpy.ndarray'>\n",
      "cookie          <class 'numpy.ndarray'>\n",
      "diamond         <class 'numpy.ndarray'>\n",
      "dog             <class 'numpy.ndarray'>\n",
      "hot air balloon <class 'numpy.ndarray'>\n",
      "knife           <class 'numpy.ndarray'>\n",
      "parachute       <class 'numpy.ndarray'>\n",
      "scissors        <class 'numpy.ndarray'>\n",
      "wine glass      <class 'numpy.ndarray'>\n"
     ]
    }
   ],
   "source": [
    "data = []\n",
    "for name in class_names:\n",
    "    file_name = name+'.npy'\n",
    "    data.append(np.load(file_name, fix_imports=True, allow_pickle=True))\n",
    "    print('%-15s'%name,type(data[-1]))"
   ]
  },
  {
   "cell_type": "markdown",
   "metadata": {
    "id": "8THFGSM9GQT4"
   },
   "source": [
    "# Liczebności i wymiary zdjęć\n",
    "Wypisz nazwę i shape dla każdej klasy"
   ]
  },
  {
   "cell_type": "code",
   "execution_count": 7,
   "metadata": {
    "ExecuteTime": {
     "end_time": "2023-07-10T21:15:44.581927Z",
     "start_time": "2023-07-10T21:15:44.576731Z"
    },
    "colab": {
     "base_uri": "https://localhost:8080/"
    },
    "id": "vjpa0hlEGQT4",
    "outputId": "3ae24422-763c-401a-c508-568608ef5c15"
   },
   "outputs": [
    {
     "name": "stdout",
     "output_type": "stream",
     "text": [
      "airplane         (151623, 784)\n",
      "banana           (307936, 784)\n",
      "cookie           (131353, 784)\n",
      "diamond          (131587, 784)\n",
      "dog              (152159, 784)\n",
      "hot air balloon  (126350, 784)\n",
      "knife            (172656, 784)\n",
      "parachute        (127319, 784)\n",
      "scissors         (123390, 784)\n",
      "wine glass       (132302, 784)\n"
     ]
    }
   ],
   "source": [
    "for i, class_name in enumerate(class_names):\n",
    "    print(f'{class_name:<16} {data[i].shape}')"
   ]
  },
  {
   "cell_type": "markdown",
   "metadata": {
    "id": "pWiz4uZdGQT5"
   },
   "source": [
    "Poniżej zwizualizuj liczbę zdjęć per klasę:"
   ]
  },
  {
   "cell_type": "code",
   "execution_count": 8,
   "metadata": {
    "ExecuteTime": {
     "end_time": "2023-07-10T21:15:46.625673Z",
     "start_time": "2023-07-10T21:15:45.664542Z"
    },
    "colab": {
     "base_uri": "https://localhost:8080/",
     "height": 945
    },
    "id": "vVZhw6tSGQT5",
    "outputId": "7f7c934b-bd8e-4f65-98cd-e262a9c14c2e"
   },
   "outputs": [
    {
     "data": {
      "text/plain": [
       "<AxesSubplot:xlabel='count', ylabel='class'>"
      ]
     },
     "execution_count": 8,
     "metadata": {},
     "output_type": "execute_result"
    },
    {
     "data": {
      "image/png": "[encoded data removed]",
      "text/plain": [
       "<Figure size 864x792 with 1 Axes>"
      ]
     },
     "metadata": {
      "needs_background": "light"
     },
     "output_type": "display_data"
    }
   ],
   "source": [
    "import seaborn as sns\n",
    "import pandas as pd\n",
    "\n",
    "counts = [ d.shape[0] for d in data ]\n",
    "dataset_summary = pd.DataFrame({\"class\": class_names, \"count\": counts}).sort_values(by='count', ascending=False)\n",
    "\n",
    "fig, ax = plt.subplots(1,1, figsize=(12,11))\n",
    "sns.barplot(x=dataset_summary[\"count\"], y=dataset_summary[\"class\"], palette=sns.color_palette(\"hls\", len(class_names)), ax=ax)"
   ]
  },
  {
   "cell_type": "markdown",
   "metadata": {
    "id": "Cl9eEq2MGQT5"
   },
   "source": [
    "# Wizualizacja danych\n",
    "Dane są w macierzach dwuwyamirowych,\n",
    "aby je poprawnie wyświetlić jako obraz,\n",
    "należy je przekonwertować do 3 wymiarów:\n",
    "\n",
    "- numer zdjęcia\n",
    "- wysokość\n",
    "- szerokość\n",
    "\n",
    "Tu pomoże `reshape` z numpy.\n",
    "\n",
    "## Konwersja do (-1, 28, 28)"
   ]
  },
  {
   "cell_type": "code",
   "execution_count": 9,
   "metadata": {
    "ExecuteTime": {
     "end_time": "2023-07-10T21:15:46.875737Z",
     "start_time": "2023-07-10T21:15:46.872969Z"
    },
    "id": "A6Jma_bfGQT6"
   },
   "outputs": [],
   "source": [
    "example_images = []\n",
    "\n",
    "for i, class_name in enumerate(class_names):\n",
    "    example_images.append(data[i][0].reshape(-1, 28, 28))"
   ]
  },
  {
   "cell_type": "markdown",
   "metadata": {
    "id": "hAsKvVjrGQT6"
   },
   "source": [
    "Wyświetl po jednym przykładzie z każdej klasy.\n",
    "\n",
    "Możesz skorzystać z `plt.subplot`"
   ]
  },
  {
   "cell_type": "code",
   "execution_count": 10,
   "metadata": {
    "ExecuteTime": {
     "end_time": "2023-07-10T21:15:48.470665Z",
     "start_time": "2023-07-10T21:15:48.120879Z"
    },
    "colab": {
     "base_uri": "https://localhost:8080/",
     "height": 429
    },
    "id": "uXiLWFoLGQT7",
    "outputId": "46a576dc-31d3-4389-e46c-299ef6071470"
   },
   "outputs": [
    {
     "data": {
      "image/png": "[encoded data removed]",
      "text/plain": [
       "<Figure size 864x360 with 10 Axes>"
      ]
     },
     "metadata": {
      "needs_background": "light"
     },
     "output_type": "display_data"
    }
   ],
   "source": [
    "fig, axis = plt.subplots(2,5, figsize=(12,5))\n",
    "\n",
    "for i, ax in enumerate(axis.flatten()):\n",
    "    image_reshaped = example_images[i].reshape(28,28) # bez tego dostajemy TypeError: Invalid shape (1, 28, 28) for image data\n",
    "    ax.imshow(image_reshaped, cmap='gray')\n",
    "    ax.set_title(class_names[i])\n",
    "    ax.axis('off')"
   ]
  },
  {
   "cell_type": "markdown",
   "metadata": {
    "id": "tSynj7gZGQT7"
   },
   "source": [
    "## Obraz średni\n",
    "Jak podobne do siebie są obrazy z poszczególnych klas?\n",
    "\n",
    "Oblicz i wyświetl średni obraz dla wszystkich klas.\n",
    "\n",
    "Możesz skorzystać z `np.mean`"
   ]
  },
  {
   "cell_type": "code",
   "execution_count": 11,
   "metadata": {
    "ExecuteTime": {
     "end_time": "2023-07-10T21:15:50.668963Z",
     "start_time": "2023-07-10T21:15:49.896494Z"
    },
    "colab": {
     "base_uri": "https://localhost:8080/",
     "height": 429
    },
    "id": "q4bEllyfGQT7",
    "outputId": "001e90cc-9e82-48c1-c118-6e03bea45a42"
   },
   "outputs": [
    {
     "data": {
      "image/png": "[encoded data removed]",
      "text/plain": [
       "<Figure size 864x360 with 10 Axes>"
      ]
     },
     "metadata": {
      "needs_background": "light"
     },
     "output_type": "display_data"
    }
   ],
   "source": [
    "mean_images = []\n",
    "\n",
    "for i, class_name in enumerate(class_names):\n",
    "    mean_image = np.mean(data[i], axis=0)\n",
    "    mean_images.append(mean_image)\n",
    "\n",
    "\n",
    "fig, axis = plt.subplots(2,5, figsize=(12,5))\n",
    "\n",
    "for i, ax in enumerate(axis.flatten()):\n",
    "    image_reshaped = mean_images[i].reshape(28,28)\n",
    "    ax.imshow(image_reshaped, cmap='gray')\n",
    "    ax.set_title(class_names[i])\n",
    "    ax.axis('off')"
   ]
  },
  {
   "cell_type": "code",
   "execution_count": 12,
   "metadata": {
    "ExecuteTime": {
     "end_time": "2023-07-10T21:15:50.831425Z",
     "start_time": "2023-07-10T21:15:50.670956Z"
    }
   },
   "outputs": [
    {
     "ename": "Exception",
     "evalue": "No TF",
     "output_type": "error",
     "traceback": [
      "\u001b[0;31m---------------------------------------------------------------------------\u001b[0m",
      "\u001b[0;31mException\u001b[0m                                 Traceback (most recent call last)",
      "\u001b[0;32m<ipython-input-12-5b610e2abd57>\u001b[0m in \u001b[0;36m<module>\u001b[0;34m\u001b[0m\n\u001b[0;32m----> 1\u001b[0;31m \u001b[0;32mraise\u001b[0m \u001b[0mException\u001b[0m\u001b[0;34m(\u001b[0m\u001b[0;34m\"No TF\"\u001b[0m\u001b[0;34m)\u001b[0m\u001b[0;34m\u001b[0m\u001b[0;34m\u001b[0m\u001b[0m\n\u001b[0m",
      "\u001b[0;31mException\u001b[0m: No TF"
     ]
    }
   ],
   "source": [
    "raise Exception(\"No TF\")"
   ]
  },
  {
   "cell_type": "markdown",
   "metadata": {
    "id": "8YzfCMvhGQT7"
   },
   "source": [
    "# Trening w TensorFlow"
   ]
  },
  {
   "cell_type": "code",
   "execution_count": 2,
   "metadata": {
    "ExecuteTime": {
     "end_time": "2023-07-10T11:40:08.937801Z",
     "start_time": "2023-07-10T11:40:04.840004Z"
    },
    "id": "nSy7NyQmGQT7"
   },
   "outputs": [],
   "source": [
    "import matplotlib.pyplot as plt\n",
    "import numpy as np\n",
    "import seaborn as sns\n",
    "sns.set(style='whitegrid', font_scale=1.5)\n",
    "import tensorflow as tf\n",
    "\n",
    "for gpu in tf.config.list_physical_devices('GPU'):\n",
    "    tf.config.experimental.set_memory_growth(gpu, True)"
   ]
  },
  {
   "cell_type": "markdown",
   "metadata": {
    "id": "l3Z-xsjeGQT8"
   },
   "source": [
    "# Przygotowanie danych\n",
    "Przygotowanie listy etykiet oraz macierzy zdjęć\n",
    "Przygotuj:\n",
    "- [ ] X - jako macierz numpy w której będą wszystkie zdjęcia\n",
    "- [ ] y - jako macierz numpy w której będą wszystkie etykiety (jako numer klasy)\n",
    "- [ ] wykonaj reshape dla X do (-1,28,28,1)\n",
    "\n",
    "Co może Ci się przydać:\n",
    "- łączenie macierzy - np.concatenate\n",
    "- mnożenie listy przez N zwraca listę z N-krotnie więcej elementami [0]*3 ==>> [0,0,0]\n",
    "- konwersja listy do macierzy numpy - np.array([0,1,2,3])\n",
    "\n",
    "Korzystając z pythonowych zapisów możesz to zrobić w jednej lini per zmienną, nie zapisuj w obu w jednej, bo to już nie będzie czytelne (tak, da się)"
   ]
  },
  {
   "cell_type": "code",
   "execution_count": 13,
   "metadata": {
    "ExecuteTime": {
     "end_time": "2023-07-10T11:34:13.746947Z",
     "start_time": "2023-07-10T11:34:13.381485Z"
    },
    "id": "3s9s1DYbGQT8"
   },
   "outputs": [],
   "source": [
    "X = np.concatenate(data).reshape(-1,28,28,1)\n",
    "y = np.concatenate([np.full(d.shape[0], i) for i, d in enumerate(data)])"
   ]
  },
  {
   "cell_type": "markdown",
   "metadata": {
    "id": "QnRwh27QGQT8"
   },
   "source": [
    "## Test"
   ]
  },
  {
   "cell_type": "code",
   "execution_count": 14,
   "metadata": {
    "ExecuteTime": {
     "end_time": "2023-07-10T11:34:13.753009Z",
     "start_time": "2023-07-10T11:34:13.749093Z"
    },
    "id": "G5nMz7FsGQT8"
   },
   "outputs": [],
   "source": [
    "assert type(X)==np.ndarray,                 \"X powinno być macierzą numpy\"\n",
    "assert type(y)==np.ndarray,                 \"y powinno być macierzą numpy\"\n",
    "assert len(X)==sum([len(_) for _ in data]), \"X powinno mieć tyle samo przykładów ile jest w data\"\n",
    "assert len(y)==sum([len(_) for _ in data]), \"Y powinno mieć tyle samo etykiet ile jest przykładów w data\"\n",
    "assert len(X.shape)==4,                     \"X - Wymagane są 4 wymiary - index, wysokość, szerokość, głębokość\"\n",
    "assert len(y.shape)==1,                     \"y - Wymagany jest 1 wymiar\"\n",
    "assert X.shape[1:]==(28,28,1),              \"Zdjęcia powinny być 28x28x1\""
   ]
  },
  {
   "cell_type": "markdown",
   "metadata": {
    "id": "5NmeCGNoGQT9"
   },
   "source": [
    "## Normalizacja\n",
    "\n",
    "Przygotuj dane (X) w taki sposób by wartości były bliskie zera.\n",
    "W celu zachowania prostoty - podziel wartości przez 255, a nie przez najwyższą wartość.\n",
    "Nie przesuwaj średniej do zera, i nie normalizuj odchylenia."
   ]
  },
  {
   "cell_type": "code",
   "execution_count": 15,
   "metadata": {
    "ExecuteTime": {
     "end_time": "2023-07-10T11:34:16.708555Z",
     "start_time": "2023-07-10T11:34:13.755479Z"
    },
    "id": "5OuPgrl8GQT9"
   },
   "outputs": [],
   "source": [
    "X = X / 255"
   ]
  },
  {
   "cell_type": "code",
   "execution_count": 16,
   "metadata": {
    "ExecuteTime": {
     "end_time": "2023-07-10T11:34:16.713688Z",
     "start_time": "2023-07-10T11:34:16.710109Z"
    }
   },
   "outputs": [
    {
     "name": "stdout",
     "output_type": "stream",
     "text": [
      "<class 'numpy.float64'>\n"
     ]
    }
   ],
   "source": [
    "# print value type of first image pixel\n",
    "print(type(X[0][0][0][0]))"
   ]
  },
  {
   "cell_type": "code",
   "execution_count": 17,
   "metadata": {
    "ExecuteTime": {
     "end_time": "2023-07-10T11:34:17.054106Z",
     "start_time": "2023-07-10T11:34:16.715815Z"
    }
   },
   "outputs": [
    {
     "name": "stderr",
     "output_type": "stream",
     "text": [
      "/opt/conda/lib/python3.8/site-packages/seaborn/distributions.py:2557: FutureWarning: `distplot` is a deprecated function and will be removed in a future version. Please adapt your code to use either `displot` (a figure-level function with similar flexibility) or `histplot` (an axes-level function for histograms).\n",
      "  warnings.warn(msg, FutureWarning)\n"
     ]
    },
    {
     "data": {
      "text/plain": [
       "Text(0.5, 1.0, 'Histogram wartości pikseli')"
      ]
     },
     "execution_count": 17,
     "metadata": {},
     "output_type": "execute_result"
    },
    {
     "data": {
      "image/png": "[encoded data removed]",
      "text/plain": [
       "<Figure size 864x360 with 1 Axes>"
      ]
     },
     "metadata": {},
     "output_type": "display_data"
    }
   ],
   "source": [
    "random_images = np.random.randint(0, X.shape[0], 100)\n",
    "random_X = X[random_images].flatten()\n",
    "\n",
    "fig, ax = plt.subplots(1,1, figsize=(12,5))\n",
    "\n",
    "random_X = random_X[(random_X!=0.0) & (random_X!=1.0)]\n",
    "sns.distplot(random_X, ax=ax, kde=False, bins=100)\n",
    "ax.set_title(\"Histogram wartości pikseli\")"
   ]
  },
  {
   "cell_type": "markdown",
   "metadata": {
    "id": "JdoCK1WSGQT9"
   },
   "source": [
    "### Test"
   ]
  },
  {
   "cell_type": "code",
   "execution_count": 18,
   "metadata": {
    "ExecuteTime": {
     "end_time": "2023-07-10T11:34:17.955612Z",
     "start_time": "2023-07-10T11:34:17.056029Z"
    },
    "id": "3arYLzxrGQT9"
   },
   "outputs": [],
   "source": [
    "assert np.max(X)<=1, \"Największa wartość nie może być większa niż 1\"\n",
    "assert np.min(X)>=0, \"Pracujmy w zakresie od 0..1\""
   ]
  },
  {
   "cell_type": "markdown",
   "metadata": {
    "id": "Z6raeUxOGQT9"
   },
   "source": [
    "## Podział zbioru danych\n",
    "\n",
    "Podziel zbiór zachowując ten sam stosunek liczby klas w train i val.\n",
    "Do podziału użyj `train_test_split` z `sklearn`."
   ]
  },
  {
   "cell_type": "code",
   "execution_count": 19,
   "metadata": {
    "ExecuteTime": {
     "end_time": "2023-07-10T11:34:21.459333Z",
     "start_time": "2023-07-10T11:34:17.957259Z"
    },
    "id": "fN7zMBdrGQT-"
   },
   "outputs": [],
   "source": [
    "from sklearn.model_selection import train_test_split\n",
    "\n",
    "X_train, X_val, y_train, y_val = train_test_split(X, y, test_size=0.2, random_state=12, stratify=y)"
   ]
  },
  {
   "cell_type": "markdown",
   "metadata": {
    "id": "ksujlZuvGQT-"
   },
   "source": [
    "### Wizualizacja podziału\n",
    "\n",
    "Przygotuj wykres, który pokaże jak dane train i val sumują się dla poszczególnych klas (trening+val powinny być jako jeden słupek, sumarycznie wysokości słupka przed podziałem). Podpowiedź - stacked bar plot.\n",
    "Przygotuj drugi wykres, który pokaże czy zbiór danych jest podzielony z zachowaniem stosunku liczebności poszczególnych klas (zachowanie procentowych udziałów klas w zbiorze)."
   ]
  },
  {
   "cell_type": "code",
   "execution_count": 20,
   "metadata": {
    "ExecuteTime": {
     "end_time": "2023-07-10T11:34:21.645895Z",
     "start_time": "2023-07-10T11:34:21.461156Z"
    },
    "id": "TW3Y8xJPGQT-"
   },
   "outputs": [
    {
     "data": {
      "image/png": "[encoded data removed]",
      "text/plain": [
       "<Figure size 648x648 with 1 Axes>"
      ]
     },
     "metadata": {},
     "output_type": "display_data"
    }
   ],
   "source": [
    "_, train_counts = np.unique(y_train, return_counts=True)\n",
    "_, test_counts = np.unique(y_val, return_counts=True)\n",
    "\n",
    "ds_summary = pd.DataFrame({\"class\": class_names, \"train_count\": train_counts, \"test_count\": test_counts }).sort_values(by=\"train_count\", ascending=True)\n",
    "ds_summary\n",
    "\n",
    "fig, ax = plt.subplots(1, 1, figsize=(9,9))\n",
    "\n",
    "ax.barh(y=ds_summary['class'], width=ds_summary['train_count'], label=\"zbiór treningowy\", color='cornflowerblue')\n",
    "ax.barh(y=ds_summary['class'], width=ds_summary['test_count'], label=\"zbiór testowy\", color='mediumaquamarine', left=ds_summary['train_count'])\n",
    "plt.legend()\n",
    "plt.show()"
   ]
  },
  {
   "cell_type": "code",
   "execution_count": 21,
   "metadata": {
    "ExecuteTime": {
     "end_time": "2023-07-10T11:34:21.866546Z",
     "start_time": "2023-07-10T11:34:21.647791Z"
    },
    "id": "hZ9vlUotPQNR"
   },
   "outputs": [
    {
     "data": {
      "image/png": "[encoded data removed]",
      "text/plain": [
       "<Figure size 1440x648 with 1 Axes>"
      ]
     },
     "metadata": {},
     "output_type": "display_data"
    }
   ],
   "source": [
    "import matplotlib.ticker as mtick\n",
    "\n",
    "total_train_count = ds_summary['train_count'].sum()\n",
    "total_test_count = ds_summary['test_count'].sum()\n",
    "\n",
    "ds_summary['train_count_pct'] = ds_summary['train_count'] / total_train_count * 100\n",
    "ds_summary['test_count_pct'] = ds_summary['test_count'] / total_test_count * 100\n",
    "\n",
    "\n",
    "fig, ax = plt.subplots(1, 1, figsize=(20,9), sharey=True)\n",
    "\n",
    "ax.set_title(\"Proporcje zbioru treningowego i testowego\")\n",
    "Y_axis = np.arange(len(ds_summary['class']))\n",
    "\n",
    "ax.barh(Y_axis - 0.2, ds_summary['train_count_pct'], 0.4, label=\"zbiór treningowy, %\", color='cornflowerblue')\n",
    "ax.barh(Y_axis + 0.2, ds_summary['test_count_pct'], 0.4, label=\"zbiór testowy, %\", color='mediumaquamarine')\n",
    "\n",
    "plt.yticks(Y_axis, ds_summary['class'])\n",
    "ax.xaxis.set_major_formatter(mtick.PercentFormatter())\n",
    "\n",
    "fig.tight_layout()\n",
    "plt.legend()\n",
    "plt.show()"
   ]
  },
  {
   "cell_type": "markdown",
   "metadata": {
    "id": "F4H0jA2uGQT-"
   },
   "source": [
    "## Test podziału danych"
   ]
  },
  {
   "cell_type": "code",
   "execution_count": 22,
   "metadata": {
    "ExecuteTime": {
     "end_time": "2023-07-10T11:34:21.902159Z",
     "start_time": "2023-07-10T11:34:21.870029Z"
    },
    "id": "flNQpR0qGQT-"
   },
   "outputs": [],
   "source": [
    "assert all((np.unique(y_train, return_counts=True)[1]/len(y_train)).round(2) == (np.unique(y_val, return_counts=True)[1]/len(y_val)).round(2)), \"Nierówny podział danych, zadbaj by rozkład w train i val były takie same\""
   ]
  },
  {
   "cell_type": "markdown",
   "metadata": {
    "id": "N1Y_xN5iGQT-"
   },
   "source": [
    "# Przygotuj model\n",
    "\n",
    "- Wykorzystaj warstwy konwolucyjne (minimum 1), pamiętaj o funkcjach aktywacji\n",
    "- Wykorzystaj Flatten\n",
    "- Model powinien mieć:\n",
    "  - wejście 28,28,1\n",
    "  - 10 wyjść\n",
    "  - Adama jako optymalizator\n",
    "  - sparse CE loss\n",
    "  - warto dodać accuracy jako metrykę\n",
    "  \n",
    "Pooling wprowadzimy w module 4, a i bez niego uzyskasz >80% accuracy."
   ]
  },
  {
   "cell_type": "code",
   "execution_count": 23,
   "metadata": {
    "ExecuteTime": {
     "end_time": "2023-07-10T11:34:21.986590Z",
     "start_time": "2023-07-10T11:34:21.904002Z"
    },
    "id": "Y31Od_VKGQT-"
   },
   "outputs": [
    {
     "name": "stdout",
     "output_type": "stream",
     "text": [
      "Model: \"sequential\"\n",
      "_________________________________________________________________\n",
      "Layer (type)                 Output Shape              Param #   \n",
      "=================================================================\n",
      "conv2d (Conv2D)              (None, 26, 26, 8)         80        \n",
      "_________________________________________________________________\n",
      "conv2d_1 (Conv2D)            (None, 24, 24, 16)        1168      \n",
      "_________________________________________________________________\n",
      "flatten (Flatten)            (None, 9216)              0         \n",
      "_________________________________________________________________\n",
      "dense (Dense)                (None, 10)                92170     \n",
      "=================================================================\n",
      "Total params: 93,418\n",
      "Trainable params: 93,418\n",
      "Non-trainable params: 0\n",
      "_________________________________________________________________\n"
     ]
    }
   ],
   "source": [
    "def getModel():\n",
    "    model = tf.keras.models.Sequential([\n",
    "        tf.keras.layers.Conv2D(8, 3, activation='relu', input_shape=(28,28,1)),\n",
    "        tf.keras.layers.Conv2D(16, 3, activation='relu'),\n",
    "        #tf.keras.layers.Conv2D(32, 3, activation='relu'),\n",
    "        tf.keras.layers.Flatten(),\n",
    "        #tf.keras.layers.Dense(16, activation='relu'),\n",
    "        #tf.keras.layers.Dense(12, activation='relu'),\n",
    "        tf.keras.layers.Dense(len(class_names), activation='softmax'),\n",
    "    ])\n",
    "    model.compile(\n",
    "        optimizer='adam',\n",
    "        loss='sparse_categorical_crossentropy',\n",
    "        metrics=['accuracy']\n",
    "        )\n",
    "    return model\n",
    "model = getModel()\n",
    "model.summary()"
   ]
  },
  {
   "cell_type": "markdown",
   "metadata": {
    "id": "q-6MefMcGQT_"
   },
   "source": [
    "## Test"
   ]
  },
  {
   "cell_type": "code",
   "execution_count": 24,
   "metadata": {
    "ExecuteTime": {
     "end_time": "2023-07-10T11:34:21.993751Z",
     "start_time": "2023-07-10T11:34:21.988367Z"
    },
    "id": "xqBiesHQGQUA"
   },
   "outputs": [],
   "source": [
    "assert type(model)==tf.keras.models.Sequential, \"Model powinien być tf.keras.models.Sequential\"\n",
    "assert model.compiled_loss is not None, \"Skompiluj model\"\n",
    "assert model.loss == 'sparse_categorical_crossentropy', \"Użyj jako loss 'sparse_categorical_crossentropy'\"\n",
    "assert model.count_params()>7850, \"Zbuduj większy model\"\n",
    "assert all(['linear' not in str(l.activation) for l in model.layers if 'activation' in dir(l)]), 'Gdy nie podasz aktywacji, aktywacją jest funkcja liniowa; użyj ReLU, bądź softmax, odpowiednio'\n",
    "assert any(['Conv2D' in str(l) for l in model.layers if 'activation' in dir(l)]), 'Użyj konwolucji 2D'\n",
    "assert list(model.input.shape)==[None,28,28,1], \"Wejście do modelu powinno mieć rozmiar None,28,28,1\"\n",
    "assert list(model.output.shape)==[None,10],     \"Wyjście z modelu powinno mieć rozmiar None,10\"\n",
    "assert \"Adam\" in str(model.optimizer), \"Użyj adama jako optymalizatora\""
   ]
  },
  {
   "cell_type": "code",
   "execution_count": 25,
   "metadata": {
    "ExecuteTime": {
     "end_time": "2023-07-10T11:34:22.253029Z",
     "start_time": "2023-07-10T11:34:21.995859Z"
    }
   },
   "outputs": [
    {
     "name": "stdout",
     "output_type": "stream",
     "text": [
      "              total        used        free      shared  buff/cache   available\r\n",
      "Mem:           23Gi        21Gi       257Mi        71Mi       2.0Gi       1.9Gi\r\n",
      "Swap:         6.0Gi       879Mi       5.1Gi\r\n"
     ]
    }
   ],
   "source": [
    "! free -h"
   ]
  },
  {
   "cell_type": "markdown",
   "metadata": {
    "id": "AV-hbet7GQUA"
   },
   "source": [
    "# Trening\n",
    "\n",
    "Wykonaj trening:\n",
    "- 10 epok\n",
    "- batch size - wybierz pomiędzy 1 a ile Ci się zmieści na GPU (np. 256)\n",
    "- z walidacją\n",
    "- zapisz wynik funkcji model.fit do zmiennej `history`"
   ]
  },
  {
   "cell_type": "code",
   "execution_count": null,
   "metadata": {
    "ExecuteTime": {
     "start_time": "2023-07-10T11:34:06.529Z"
    },
    "id": "Bj49E53oGQUA"
   },
   "outputs": [],
   "source": [
    "epochs = 10\n",
    "batch_size = 64\n",
    "\n",
    "history = model.fit(\n",
    "    X_train, y_train,\n",
    "    epochs=epochs,\n",
    "    batch_size=batch_size,\n",
    "    validation_data = (X_val, y_val))"
   ]
  },
  {
   "cell_type": "markdown",
   "metadata": {
    "id": "lkN8Iy7_GQUA"
   },
   "source": [
    "## Wizualizacja historii treningu\n",
    "\n",
    "Przygotuj wykres na którym pokażesz jak podczas treningu zmieniało się training i validation accuracy."
   ]
  },
  {
   "cell_type": "code",
   "execution_count": null,
   "metadata": {
    "ExecuteTime": {
     "start_time": "2023-07-10T11:34:06.530Z"
    },
    "id": "6MLEgB-2GQUB"
   },
   "outputs": [],
   "source": [
    "fig, ax = plt.subplots(1, 1, figsize=(14, 8), sharey=True)\n",
    "\n",
    "ax.set_title(\"Trening modelu\")\n",
    "x = np.arange(10)\n",
    "\n",
    "ax.plot(history.history['accuracy'], label='acc')\n",
    "ax.plot(history.history['val_accuracy'], label='val_acc')\n",
    "ax.legend()\n",
    "\n",
    "fig.tight_layout()\n",
    "plt.show()"
   ]
  },
  {
   "cell_type": "markdown",
   "metadata": {
    "id": "OOskQ72DGQUB"
   },
   "source": [
    "### Test"
   ]
  },
  {
   "cell_type": "code",
   "execution_count": null,
   "metadata": {
    "ExecuteTime": {
     "start_time": "2023-07-10T11:34:06.531Z"
    },
    "id": "ceSw0LfpGQUB"
   },
   "outputs": [],
   "source": [
    "assert list(history.history.keys())==['loss', 'accuracy', 'val_loss', 'val_accuracy'], \"Trening powinien być z walidacją oraz metryką accuracy\"\n",
    "assert len(history.history['loss'])==10, \"Wystarczy 10 epok\""
   ]
  },
  {
   "cell_type": "code",
   "execution_count": null,
   "metadata": {
    "ExecuteTime": {
     "start_time": "2023-07-10T11:34:06.532Z"
    },
    "id": "Qi2djUyOGQUB"
   },
   "outputs": [],
   "source": [
    "# free GPU mem\n",
    "del model"
   ]
  },
  {
   "cell_type": "code",
   "execution_count": null,
   "metadata": {
    "ExecuteTime": {
     "start_time": "2023-07-10T11:34:06.534Z"
    }
   },
   "outputs": [],
   "source": [
    "! free -h"
   ]
  },
  {
   "cell_type": "markdown",
   "metadata": {
    "id": "l8CSd_g5GQUC"
   },
   "source": [
    "# Pytorch Lightning"
   ]
  },
  {
   "cell_type": "code",
   "execution_count": 13,
   "metadata": {
    "ExecuteTime": {
     "end_time": "2023-07-10T21:18:49.794190Z",
     "start_time": "2023-07-10T21:16:12.456008Z"
    },
    "id": "QDoFAGO8jM33"
   },
   "outputs": [
    {
     "name": "stdout",
     "output_type": "stream",
     "text": [
      "Collecting lightning\n",
      "  Downloading lightning-2.0.5-py3-none-any.whl (1.9 MB)\n",
      "\u001b[K     |████████████████████████████████| 1.9 MB 3.2 MB/s eta 0:00:01\n",
      "\u001b[?25hCollecting arrow<3.0,>=1.2.0\n",
      "  Downloading arrow-1.2.3-py3-none-any.whl (66 kB)\n",
      "\u001b[K     |████████████████████████████████| 66 kB 9.3 MB/s  eta 0:00:01\n",
      "\u001b[?25hRequirement already satisfied: numpy<3.0,>=1.17.2 in /opt/conda/lib/python3.8/site-packages (from lightning) (1.19.5)\n",
      "Requirement already satisfied: starlette in /opt/conda/lib/python3.8/site-packages (from lightning) (0.14.2)\n",
      "Collecting lightning-utilities<2.0,>=0.7.0\n",
      "  Downloading lightning_utilities-0.9.0-py3-none-any.whl (23 kB)\n",
      "Requirement already satisfied: websocket-client<3.0 in /opt/conda/lib/python3.8/site-packages (from lightning) (0.57.0)\n",
      "Collecting inquirer<5.0,>=2.10.0\n",
      "  Downloading inquirer-3.1.3-py3-none-any.whl (18 kB)\n",
      "Requirement already satisfied: websockets<13.0 in /opt/conda/lib/python3.8/site-packages (from lightning) (9.1)\n",
      "Requirement already satisfied: packaging<25.0,>=17.1 in /opt/conda/lib/python3.8/site-packages (from lightning) (20.9)\n",
      "Requirement already satisfied: PyYAML<8.0,>=5.4 in /opt/conda/lib/python3.8/site-packages (from lightning) (5.4.1)\n",
      "Requirement already satisfied: Jinja2<5.0 in /opt/conda/lib/python3.8/site-packages (from lightning) (3.0.1)\n",
      "Collecting traitlets<7.0,>=5.3.0\n",
      "  Downloading traitlets-5.9.0-py3-none-any.whl (117 kB)\n",
      "\u001b[K     |████████████████████████████████| 117 kB 51.6 MB/s eta 0:00:01\n",
      "\u001b[?25hCollecting torch<4.0,>=1.11.0\n",
      "  Downloading torch-2.0.1-cp38-cp38-manylinux1_x86_64.whl (619.9 MB)\n",
      "\u001b[K     |████████████████████████████████| 619.9 MB 41 kB/s s eta 0:00:01    |█▉                              | 35.4 MB 52.0 MB/s eta 0:00:12     |█████████                       | 175.1 MB 38.0 MB/s eta 0:00:12     |█████████▌                      | 184.3 MB 38.0 MB/s eta 0:00:12     |████████████████████████▎       | 469.8 MB 41.9 MB/s eta 0:00:04     |█████████████████████████       | 485.2 MB 41.9 MB/s eta 0:00:04     |██████████████████████████▉     | 520.0 MB 38.3 MB/s eta 0:00:03��█████████████▎    | 527.7 MB 38.3 MB/s eta 0:00:03\n",
      "\u001b[?25hRequirement already satisfied: pydantic<2.0.0,>=1.7.4 in /opt/conda/lib/python3.8/site-packages (from lightning) (1.7.4)\n",
      "Collecting deepdiff<8.0,>=5.7.0\n",
      "  Downloading deepdiff-6.3.1-py3-none-any.whl (70 kB)\n",
      "\u001b[K     |████████████████████████████████| 70 kB 15.3 MB/s eta 0:00:01\n",
      "\u001b[?25hCollecting pytorch-lightning\n",
      "  Downloading pytorch_lightning-2.0.5-py3-none-any.whl (722 kB)\n",
      "\u001b[K     |████████████████████████████████| 722 kB 48.9 MB/s eta 0:00:01\n",
      "\u001b[?25hCollecting fsspec<2025.0,>=2022.5.0\n",
      "  Downloading fsspec-2023.6.0-py3-none-any.whl (163 kB)\n",
      "\u001b[K     |████████████████████████████████| 163 kB 37.2 MB/s eta 0:00:01\n",
      "\u001b[?25hRequirement already satisfied: psutil<7.0 in /opt/conda/lib/python3.8/site-packages (from lightning) (5.8.0)\n",
      "Collecting fastapi<2.0,>=0.92.0\n",
      "  Downloading fastapi-0.100.0-py3-none-any.whl (65 kB)\n",
      "\u001b[K     |████████████████████████████████| 65 kB 7.7 MB/s  eta 0:00:01\n",
      "\u001b[?25hRequirement already satisfied: requests<4.0 in /opt/conda/lib/python3.8/site-packages (from lightning) (2.25.1)\n",
      "Requirement already satisfied: click<10.0 in /opt/conda/lib/python3.8/site-packages (from lightning) (7.1.2)\n",
      "Collecting starsessions<2.0,>=1.2.1\n",
      "  Downloading starsessions-1.3.0-py3-none-any.whl (10 kB)\n",
      "Requirement already satisfied: urllib3<4.0 in /opt/conda/lib/python3.8/site-packages (from lightning) (1.26.6)\n",
      "Collecting lightning-cloud>=0.5.37\n",
      "  Downloading lightning_cloud-0.5.37-py3-none-any.whl (596 kB)\n",
      "\u001b[K     |████████████████████████████████| 596 kB 32.5 MB/s eta 0:00:01\n",
      "\u001b[?25hCollecting dateutils<2.0\n",
      "  Downloading dateutils-0.6.12-py2.py3-none-any.whl (5.7 kB)\n",
      "Collecting croniter<1.5.0,>=1.3.0\n",
      "  Downloading croniter-1.4.1-py2.py3-none-any.whl (19 kB)\n",
      "Collecting typing-extensions<6.0,>=4.0.0\n",
      "  Downloading typing_extensions-4.7.1-py3-none-any.whl (33 kB)\n",
      "Collecting torchmetrics<2.0,>=0.7.0\n",
      "  Downloading torchmetrics-1.0.0-py3-none-any.whl (728 kB)\n",
      "\u001b[K     |████████████████████████████████| 728 kB 27.7 MB/s eta 0:00:01\n",
      "\u001b[?25hRequirement already satisfied: uvicorn<2.0 in /opt/conda/lib/python3.8/site-packages (from lightning) (0.14.0)\n",
      "Requirement already satisfied: fsspec[http]<2025.0,>2021.06.0 in /opt/conda/lib/python3.8/site-packages (from lightning) (2021.7.0)\n",
      "Collecting backoff<4.0,>=2.2.1\n",
      "  Downloading backoff-2.2.1-py3-none-any.whl (15 kB)\n",
      "Requirement already satisfied: tqdm<6.0,>=4.57.0 in /opt/conda/lib/python3.8/site-packages (from lightning) (4.61.1)\n",
      "Collecting rich<15.0,>=12.3.0\n",
      "  Downloading rich-13.4.2-py3-none-any.whl (239 kB)\n",
      "\u001b[K     |████████████████████████████████| 239 kB 23.2 MB/s eta 0:00:01\n",
      "\u001b[?25hRequirement already satisfied: beautifulsoup4<6.0,>=4.8.0 in /opt/conda/lib/python3.8/site-packages (from lightning) (4.9.3)\n",
      "Collecting python-multipart<2.0,>=0.0.5\n",
      "  Downloading python_multipart-0.0.6-py3-none-any.whl (45 kB)\n",
      "\u001b[K     |████████████████████████████████| 45 kB 7.1 MB/s  eta 0:00:01\n",
      "\u001b[?25hRequirement already satisfied: python-dateutil>=2.7.0 in /opt/conda/lib/python3.8/site-packages (from arrow<3.0,>=1.2.0->lightning) (2.8.1)\n",
      "Requirement already satisfied: soupsieve>1.2 in /opt/conda/lib/python3.8/site-packages (from beautifulsoup4<6.0,>=4.8.0->lightning) (2.2.1)\n",
      "Requirement already satisfied: pytz in /opt/conda/lib/python3.8/site-packages (from dateutils<2.0->lightning) (2021.1)\n",
      "Collecting ordered-set<4.2.0,>=4.0.2\n",
      "  Downloading ordered_set-4.1.0-py3-none-any.whl (7.6 kB)\n",
      "Collecting starlette\n",
      "  Downloading starlette-0.27.0-py3-none-any.whl (66 kB)\n",
      "\u001b[K     |████████████████████████████████| 66 kB 8.8 MB/s  eta 0:00:01\n",
      "\u001b[?25hRequirement already satisfied: aiohttp!=4.0.0a0,!=4.0.0a1 in /opt/conda/lib/python3.8/site-packages (from fsspec<2025.0,>=2022.5.0->lightning) (3.7.4.post0)\n",
      "Requirement already satisfied: yarl<2.0,>=1.0 in /opt/conda/lib/python3.8/site-packages (from aiohttp!=4.0.0a0,!=4.0.0a1->fsspec<2025.0,>=2022.5.0->lightning) (1.5.1)\n",
      "Requirement already satisfied: multidict<7.0,>=4.5 in /opt/conda/lib/python3.8/site-packages (from aiohttp!=4.0.0a0,!=4.0.0a1->fsspec<2025.0,>=2022.5.0->lightning) (5.1.0)\n",
      "Requirement already satisfied: async-timeout<4.0,>=3.0 in /opt/conda/lib/python3.8/site-packages (from aiohttp!=4.0.0a0,!=4.0.0a1->fsspec<2025.0,>=2022.5.0->lightning) (3.0.1)\n",
      "Requirement already satisfied: attrs>=17.3.0 in /opt/conda/lib/python3.8/site-packages (from aiohttp!=4.0.0a0,!=4.0.0a1->fsspec<2025.0,>=2022.5.0->lightning) (21.2.0)\n",
      "Requirement already satisfied: chardet<5.0,>=2.0 in /opt/conda/lib/python3.8/site-packages (from aiohttp!=4.0.0a0,!=4.0.0a1->fsspec<2025.0,>=2022.5.0->lightning) (4.0.0)\n",
      "Collecting readchar>=3.0.6\n",
      "  Downloading readchar-4.0.5-py3-none-any.whl (8.5 kB)\n",
      "Collecting blessed>=1.19.0\n",
      "  Downloading blessed-1.20.0-py2.py3-none-any.whl (58 kB)\n",
      "\u001b[K     |████████████████████████████████| 58 kB 10.2 MB/s eta 0:00:01\n",
      "\u001b[?25hRequirement already satisfied: python-editor>=1.0.4 in /opt/conda/lib/python3.8/site-packages (from inquirer<5.0,>=2.10.0->lightning) (1.0.4)\n",
      "Requirement already satisfied: six>=1.9.0 in /opt/conda/lib/python3.8/site-packages (from blessed>=1.19.0->inquirer<5.0,>=2.10.0->lightning) (1.15.0)\n",
      "Requirement already satisfied: wcwidth>=0.1.4 in /opt/conda/lib/python3.8/site-packages (from blessed>=1.19.0->inquirer<5.0,>=2.10.0->lightning) (0.2.5)\n",
      "Requirement already satisfied: MarkupSafe>=2.0 in /opt/conda/lib/python3.8/site-packages (from Jinja2<5.0->lightning) (2.0.1)\n",
      "Requirement already satisfied: pyjwt in /opt/conda/lib/python3.8/site-packages (from lightning-cloud>=0.5.37->lightning) (1.7.1)\n",
      "Requirement already satisfied: pyparsing>=2.0.2 in /opt/conda/lib/python3.8/site-packages (from packaging<25.0,>=17.1->lightning) (2.4.7)\n",
      "Requirement already satisfied: setuptools>=41.0 in /opt/conda/lib/python3.8/site-packages (from readchar>=3.0.6->inquirer<5.0,>=2.10.0->lightning) (49.6.0.post20210108)\n",
      "Requirement already satisfied: certifi>=2017.4.17 in /opt/conda/lib/python3.8/site-packages (from requests<4.0->lightning) (2021.5.30)\n",
      "Requirement already satisfied: idna<3,>=2.5 in /opt/conda/lib/python3.8/site-packages (from requests<4.0->lightning) (2.10)\n",
      "Collecting markdown-it-py>=2.2.0\n",
      "  Downloading markdown_it_py-3.0.0-py3-none-any.whl (87 kB)\n",
      "\u001b[K     |████████████████████████████████| 87 kB 10.9 MB/s eta 0:00:01\n"
     ]
    },
    {
     "name": "stdout",
     "output_type": "stream",
     "text": [
      "\u001b[?25hCollecting pygments<3.0.0,>=2.13.0\n",
      "  Downloading Pygments-2.15.1-py3-none-any.whl (1.1 MB)\n",
      "\u001b[K     |████████████████████████████████| 1.1 MB 45.2 MB/s eta 0:00:01\n",
      "\u001b[?25hCollecting mdurl~=0.1\n",
      "  Downloading mdurl-0.1.2-py3-none-any.whl (10.0 kB)\n",
      "Collecting anyio<5,>=3.4.0\n",
      "  Downloading anyio-3.7.1-py3-none-any.whl (80 kB)\n",
      "\u001b[K     |████████████████████████████████| 80 kB 14.3 MB/s eta 0:00:01\n",
      "\u001b[?25hCollecting exceptiongroup\n",
      "  Downloading exceptiongroup-1.1.2-py3-none-any.whl (14 kB)\n",
      "Requirement already satisfied: sniffio>=1.1 in /opt/conda/lib/python3.8/site-packages (from anyio<5,>=3.4.0->starlette->lightning) (1.2.0)\n",
      "Requirement already satisfied: itsdangerous<3.0.0,>=2.0.1 in /opt/conda/lib/python3.8/site-packages (from starsessions<2.0,>=1.2.1->lightning) (2.0.1)\n",
      "Collecting triton==2.0.0\n",
      "  Downloading triton-2.0.0-1-cp38-cp38-manylinux2014_x86_64.manylinux_2_17_x86_64.whl (63.2 MB)\n",
      "\u001b[K     |████████████████████████████████| 63.2 MB 44.7 MB/s eta 0:00:01     |██████▋                         | 13.1 MB 37.7 MB/s eta 0:00:02\n",
      "\u001b[?25hRequirement already satisfied: sympy in /opt/conda/lib/python3.8/site-packages (from torch<4.0,>=1.11.0->lightning) (1.8)\n",
      "Requirement already satisfied: networkx in /opt/conda/lib/python3.8/site-packages (from torch<4.0,>=1.11.0->lightning) (2.5.1)\n",
      "Collecting nvidia-cuda-cupti-cu11==11.7.101\n",
      "  Downloading nvidia_cuda_cupti_cu11-11.7.101-py3-none-manylinux1_x86_64.whl (11.8 MB)\n",
      "\u001b[K     |████████████████████████████████| 11.8 MB 46.0 MB/s eta 0:00:01\n",
      "\u001b[?25hCollecting nvidia-cusolver-cu11==11.4.0.1\n",
      "  Downloading nvidia_cusolver_cu11-11.4.0.1-2-py3-none-manylinux1_x86_64.whl (102.6 MB)\n",
      "\u001b[K     |████████████████████████████████| 102.6 MB 32.0 MB/s eta 0:00:01   |▍                               | 1.3 MB 34.8 MB/s eta 0:00:03     |██▌                             | 7.9 MB 34.8 MB/s eta 0:00:03\n",
      "\u001b[?25hCollecting nvidia-cusparse-cu11==11.7.4.91\n",
      "  Downloading nvidia_cusparse_cu11-11.7.4.91-py3-none-manylinux1_x86_64.whl (173.2 MB)\n",
      "\u001b[K     |████████████████████████████████| 173.2 MB 40.1 MB/s eta 0:00:01     |█████████████████████▍          | 116.0 MB 37.6 MB/s eta 0:00:02\n",
      "\u001b[?25hCollecting nvidia-nccl-cu11==2.14.3\n",
      "  Downloading nvidia_nccl_cu11-2.14.3-py3-none-manylinux1_x86_64.whl (177.1 MB)\n",
      "\u001b[K     |████████████████████████████████| 177.1 MB 38.6 MB/s eta 0:00:01     |███████████████████████▍        | 129.4 MB 43.2 MB/s eta 0:00:02\n",
      "\u001b[?25hCollecting nvidia-nvtx-cu11==11.7.91\n",
      "  Downloading nvidia_nvtx_cu11-11.7.91-py3-none-manylinux1_x86_64.whl (98 kB)\n",
      "\u001b[K     |████████████████████████████████| 98 kB 12.2 MB/s eta 0:00:01\n",
      "\u001b[?25hCollecting nvidia-cuda-nvrtc-cu11==11.7.99\n",
      "  Downloading nvidia_cuda_nvrtc_cu11-11.7.99-2-py3-none-manylinux1_x86_64.whl (21.0 MB)\n",
      "\u001b[K     |████████████████████████████████| 21.0 MB 28.8 MB/s eta 0:00:01\n",
      "\u001b[?25hCollecting nvidia-cudnn-cu11==8.5.0.96\n",
      "  Downloading nvidia_cudnn_cu11-8.5.0.96-2-py3-none-manylinux1_x86_64.whl (557.1 MB)\n",
      "\u001b[K     |████████████████████████████████| 557.1 MB 38 kB/s s eta 0:00:01    |████▋                           | 80.6 MB 37.6 MB/s eta 0:00:13     |█████████████▊                  | 239.2 MB 55.8 MB/s eta 0:00:06     |███████████████                 | 259.6 MB 55.8 MB/s eta 0:00:06     |███████████████                 | 261.7 MB 55.8 MB/s eta 0:00:06     |███████████████████████▍        | 407.4 MB 23.6 MB/s eta 0:00:07     |███████████████████████▊        | 412.3 MB 45.1 MB/s eta 0:00:04\n",
      "\u001b[?25hCollecting nvidia-cublas-cu11==11.10.3.66\n",
      "  Downloading nvidia_cublas_cu11-11.10.3.66-py3-none-manylinux1_x86_64.whl (317.1 MB)\n",
      "\u001b[K     |████████████████████████████████| 317.1 MB 113 kB/s  eta 0:00:01    |████                            | 40.2 MB 53.6 MB/s eta 0:00:06     |█████████▊                      | 95.9 MB 25.1 MB/s eta 0:00:09     |██████████████████▌             | 183.0 MB 39.8 MB/s eta 0:00:04     |███████████████████             | 188.1 MB 39.8 MB/s eta 0:00:04     |██████████████████████▊         | 225.6 MB 37.3 MB/s eta 0:00:03     |███████████████████████▏        | 229.3 MB 37.3 MB/s eta 0:00:03     |██████████████████████████████▋ | 303.3 MB 33.9 MB/s eta 0:00:01\n",
      "\u001b[?25hRequirement already satisfied: filelock in /opt/conda/lib/python3.8/site-packages (from torch<4.0,>=1.11.0->lightning) (3.0.12)\n",
      "Collecting nvidia-cuda-runtime-cu11==11.7.99\n",
      "  Downloading nvidia_cuda_runtime_cu11-11.7.99-py3-none-manylinux1_x86_64.whl (849 kB)\n",
      "\u001b[K     |████████████████████████████████| 849 kB 29.0 MB/s eta 0:00:01\n",
      "\u001b[?25hCollecting nvidia-cufft-cu11==10.9.0.58\n",
      "  Downloading nvidia_cufft_cu11-10.9.0.58-py3-none-manylinux1_x86_64.whl (168.4 MB)\n",
      "\u001b[K     |████████████████████████████████| 168.4 MB 359 kB/s  eta 0:00:01     |██████████████████████▉         | 120.0 MB 35.9 MB/s eta 0:00:02     |███████████████████████▉        | 125.2 MB 35.9 MB/s eta 0:00:02     |█████████████████████████▏      | 132.4 MB 35.9 MB/s eta 0:00:02\n",
      "\u001b[?25hCollecting nvidia-curand-cu11==10.2.10.91\n",
      "  Downloading nvidia_curand_cu11-10.2.10.91-py3-none-manylinux1_x86_64.whl (54.6 MB)\n",
      "\u001b[K     |████████████████████████████████| 54.6 MB 971 kB/s  eta 0:00:01\n",
      "\u001b[?25hRequirement already satisfied: wheel in /opt/conda/lib/python3.8/site-packages (from nvidia-cublas-cu11==11.10.3.66->torch<4.0,>=1.11.0->lightning) (0.36.2)\n",
      "Collecting lit\n",
      "  Downloading lit-16.0.6.tar.gz (153 kB)\n",
      "\u001b[K     |████████████████████████████████| 153 kB 17.5 MB/s eta 0:00:01\n",
      "\u001b[?25h  Installing build dependencies ... \u001b[?25ldone\n",
      "\u001b[?25h  Getting requirements to build wheel ... \u001b[?25ldone\n",
      "\u001b[?25h  Installing backend dependencies ... \u001b[?25ldone\n",
      "\u001b[?25h    Preparing wheel metadata ... \u001b[?25ldone\n",
      "\u001b[?25hRequirement already satisfied: cmake in /opt/conda/lib/python3.8/site-packages (from triton==2.0.0->torch<4.0,>=1.11.0->lightning) (3.20.4)\n",
      "Collecting numpy<3.0,>=1.17.2\n",
      "  Downloading numpy-1.24.4-cp38-cp38-manylinux_2_17_x86_64.manylinux2014_x86_64.whl (17.3 MB)\n",
      "\u001b[K     |████████████████████████████████| 17.3 MB 47.9 MB/s eta 0:00:01\n",
      "\u001b[?25hRequirement already satisfied: asgiref>=3.3.4 in /opt/conda/lib/python3.8/site-packages (from uvicorn<2.0->lightning) (3.4.1)\n",
      "Requirement already satisfied: h11>=0.8 in /opt/conda/lib/python3.8/site-packages (from uvicorn<2.0->lightning) (0.12.0)\n",
      "Requirement already satisfied: decorator<5,>=4.3 in /opt/conda/lib/python3.8/site-packages (from networkx->torch<4.0,>=1.11.0->lightning) (4.4.2)\n",
      "Requirement already satisfied: mpmath>=0.19 in /opt/conda/lib/python3.8/site-packages (from sympy->torch<4.0,>=1.11.0->lightning) (1.2.1)\n",
      "Building wheels for collected packages: lit\n",
      "  Building wheel for lit (PEP 517) ... \u001b[?25ldone\n",
      "\u001b[?25h  Created wheel for lit: filename=lit-16.0.6-py3-none-any.whl size=93582 sha256=a2accbc0d775d16a907c3ef6fefca4948e05feca149165ecbe7993ead22aaef0\n",
      "  Stored in directory: /root/.cache/pip/wheels/05/ab/f1/0102fea49a41c753f0e79a1a4012417d5d7ef0f93224694472\n",
      "Successfully built lit\n",
      "Installing collected packages: nvidia-cublas-cu11, lit, exceptiongroup, typing-extensions, triton, nvidia-nvtx-cu11, nvidia-nccl-cu11, nvidia-cusparse-cu11, nvidia-cusolver-cu11, nvidia-curand-cu11, nvidia-cufft-cu11, nvidia-cudnn-cu11, nvidia-cuda-runtime-cu11, nvidia-cuda-nvrtc-cu11, nvidia-cuda-cupti-cu11, mdurl, anyio, torch, starlette, pygments, numpy, markdown-it-py, lightning-utilities, fsspec, torchmetrics, rich, readchar, python-multipart, ordered-set, fastapi, blessed, traitlets, starsessions, pytorch-lightning, lightning-cloud, inquirer, deepdiff, dateutils, croniter, backoff, arrow, lightning\n",
      "  Attempting uninstall: typing-extensions\n",
      "    Found existing installation: typing-extensions 3.7.4\n",
      "    Uninstalling typing-extensions-3.7.4:\n",
      "      Successfully uninstalled typing-extensions-3.7.4\n",
      "  Attempting uninstall: anyio\n",
      "    Found existing installation: anyio 3.2.1\n",
      "    Uninstalling anyio-3.2.1:\n",
      "      Successfully uninstalled anyio-3.2.1\n",
      "  Attempting uninstall: torch\n",
      "    Found existing installation: torch 1.9.0+cu111\n",
      "    Uninstalling torch-1.9.0+cu111:\n",
      "      Successfully uninstalled torch-1.9.0+cu111\n",
      "  Attempting uninstall: starlette\n",
      "    Found existing installation: starlette 0.14.2\n",
      "    Uninstalling starlette-0.14.2:\n",
      "      Successfully uninstalled starlette-0.14.2\n",
      "  Attempting uninstall: pygments\n",
      "    Found existing installation: Pygments 2.9.0\n",
      "    Uninstalling Pygments-2.9.0:\n"
     ]
    },
    {
     "name": "stdout",
     "output_type": "stream",
     "text": [
      "      Successfully uninstalled Pygments-2.9.0\n",
      "  Attempting uninstall: numpy\n",
      "    Found existing installation: numpy 1.19.5\n",
      "    Uninstalling numpy-1.19.5:\n",
      "      Successfully uninstalled numpy-1.19.5\n",
      "  Attempting uninstall: markdown-it-py\n",
      "    Found existing installation: markdown-it-py 1.1.0\n",
      "    Uninstalling markdown-it-py-1.1.0:\n",
      "      Successfully uninstalled markdown-it-py-1.1.0\n",
      "  Attempting uninstall: fsspec\n",
      "    Found existing installation: fsspec 2021.7.0\n",
      "    Uninstalling fsspec-2021.7.0:\n",
      "      Successfully uninstalled fsspec-2021.7.0\n",
      "  Attempting uninstall: rich\n",
      "    Found existing installation: rich 10.4.0\n",
      "    Uninstalling rich-10.4.0:\n",
      "      Successfully uninstalled rich-10.4.0\n",
      "  Attempting uninstall: fastapi\n",
      "    Found existing installation: fastapi 0.65.2\n",
      "    Uninstalling fastapi-0.65.2:\n",
      "      Successfully uninstalled fastapi-0.65.2\n",
      "  Attempting uninstall: traitlets\n",
      "    Found existing installation: traitlets 5.0.5\n",
      "    Uninstalling traitlets-5.0.5:\n",
      "      Successfully uninstalled traitlets-5.0.5\n",
      "  Attempting uninstall: arrow\n",
      "    Found existing installation: arrow 1.1.1\n",
      "    Uninstalling arrow-1.1.1:\n",
      "      Successfully uninstalled arrow-1.1.1\n",
      "\u001b[31mERROR: pip's dependency resolver does not currently take into account all the packages that are installed. This behaviour is the source of the following dependency conflicts.\n",
      "spektral 1.0.6 requires tensorflow>=2.1.0, which is not installed.\n",
      "gpflow 2.2.1 requires tensorflow>=2.2.0, which is not installed.\n",
      "autokeras 1.0.15 requires tensorflow>=2.3.0, which is not installed.\n",
      "torchvision 0.10.0+cu111 requires torch==1.9.0, but you have torch 2.0.1 which is incompatible.\n",
      "torchtext 0.10.0 requires torch==1.9.0, but you have torch 2.0.1 which is incompatible.\n",
      "torchaudio 0.9.0 requires torch==1.9.0, but you have torch 2.0.1 which is incompatible.\n",
      "tensorflow-gpu 2.5.0 requires numpy~=1.19.2, but you have numpy 1.24.4 which is incompatible.\n",
      "tensorflow-gpu 2.5.0 requires typing-extensions~=3.7.4, but you have typing-extensions 4.7.1 which is incompatible.\n",
      "scipy 1.7.0 requires numpy<1.23.0,>=1.16.5, but you have numpy 1.24.4 which is incompatible.\n",
      "pytorch-ignite 0.4.5 requires torch<2,>=1.3, but you have torch 2.0.1 which is incompatible.\n",
      "mdit-py-plugins 0.2.8 requires markdown-it-py~=1.0, but you have markdown-it-py 3.0.0 which is incompatible.\n",
      "jupytext 1.11.3 requires markdown-it-py[plugins]~=1.0, but you have markdown-it-py 3.0.0 which is incompatible.\n",
      "fastai 2.4 requires torch<1.10,>=1.7.0, but you have torch 2.0.1 which is incompatible.\n",
      "cupy-cuda112 9.2.0 requires numpy<1.23,>=1.17, but you have numpy 1.24.4 which is incompatible.\u001b[0m\n",
      "Successfully installed anyio-3.7.1 arrow-1.2.3 backoff-2.2.1 blessed-1.20.0 croniter-1.4.1 dateutils-0.6.12 deepdiff-6.3.1 exceptiongroup-1.1.2 fastapi-0.100.0 fsspec-2023.6.0 inquirer-3.1.3 lightning-2.0.5 lightning-cloud-0.5.37 lightning-utilities-0.9.0 lit-16.0.6 markdown-it-py-3.0.0 mdurl-0.1.2 numpy-1.24.4 nvidia-cublas-cu11-11.10.3.66 nvidia-cuda-cupti-cu11-11.7.101 nvidia-cuda-nvrtc-cu11-11.7.99 nvidia-cuda-runtime-cu11-11.7.99 nvidia-cudnn-cu11-8.5.0.96 nvidia-cufft-cu11-10.9.0.58 nvidia-curand-cu11-10.2.10.91 nvidia-cusolver-cu11-11.4.0.1 nvidia-cusparse-cu11-11.7.4.91 nvidia-nccl-cu11-2.14.3 nvidia-nvtx-cu11-11.7.91 ordered-set-4.1.0 pygments-2.15.1 python-multipart-0.0.6 pytorch-lightning-2.0.5 readchar-4.0.5 rich-13.4.2 starlette-0.27.0 starsessions-1.3.0 torch-2.0.1 torchmetrics-1.0.0 traitlets-5.9.0 triton-2.0.0 typing-extensions-4.7.1\n",
      "\u001b[33mWARNING: Running pip as the 'root' user can result in broken permissions and conflicting behaviour with the system package manager. It is recommended to use a virtual environment instead: https://pip.pypa.io/warnings/venv\u001b[0m\n"
     ]
    }
   ],
   "source": [
    "! pip install lightning"
   ]
  },
  {
   "cell_type": "code",
   "execution_count": 14,
   "metadata": {
    "ExecuteTime": {
     "end_time": "2023-07-10T21:18:49.885830Z",
     "start_time": "2023-07-10T21:18:49.795973Z"
    },
    "id": "KlGdE5uKGQUC"
   },
   "outputs": [
    {
     "ename": "ImportError",
     "evalue": "/opt/conda/lib/python3.8/site-packages/torch/lib/libtorch_cuda.so: undefined symbol: cusparseSpSM_analysis, version libcusparse.so.11",
     "output_type": "error",
     "traceback": [
      "\u001b[0;31m---------------------------------------------------------------------------\u001b[0m",
      "\u001b[0;31mImportError\u001b[0m                               Traceback (most recent call last)",
      "\u001b[0;32m<ipython-input-14-09e0733b64f4>\u001b[0m in \u001b[0;36m<module>\u001b[0;34m\u001b[0m\n\u001b[0;32m----> 1\u001b[0;31m \u001b[0;32mimport\u001b[0m \u001b[0mtorch\u001b[0m\u001b[0;34m\u001b[0m\u001b[0;34m\u001b[0m\u001b[0m\n\u001b[0m\u001b[1;32m      2\u001b[0m \u001b[0;32mfrom\u001b[0m \u001b[0mtorch\u001b[0m\u001b[0;34m.\u001b[0m\u001b[0mnn\u001b[0m \u001b[0;32mimport\u001b[0m \u001b[0mfunctional\u001b[0m \u001b[0;32mas\u001b[0m \u001b[0mF\u001b[0m\u001b[0;34m\u001b[0m\u001b[0;34m\u001b[0m\u001b[0m\n\u001b[1;32m      3\u001b[0m \u001b[0;32mfrom\u001b[0m \u001b[0mtorch\u001b[0m \u001b[0;32mimport\u001b[0m \u001b[0mnn\u001b[0m\u001b[0;34m\u001b[0m\u001b[0;34m\u001b[0m\u001b[0m\n\u001b[1;32m      4\u001b[0m \u001b[0;32mfrom\u001b[0m \u001b[0mtorch\u001b[0m\u001b[0;34m.\u001b[0m\u001b[0mutils\u001b[0m\u001b[0;34m.\u001b[0m\u001b[0mdata\u001b[0m \u001b[0;32mimport\u001b[0m \u001b[0mTensorDataset\u001b[0m\u001b[0;34m,\u001b[0m \u001b[0mDataLoader\u001b[0m\u001b[0;34m\u001b[0m\u001b[0;34m\u001b[0m\u001b[0m\n\u001b[1;32m      5\u001b[0m \u001b[0;34m\u001b[0m\u001b[0m\n",
      "\u001b[0;32m/opt/conda/lib/python3.8/site-packages/torch/__init__.py\u001b[0m in \u001b[0;36m<module>\u001b[0;34m\u001b[0m\n\u001b[1;32m    227\u001b[0m     \u001b[0;32mif\u001b[0m \u001b[0mUSE_GLOBAL_DEPS\u001b[0m\u001b[0;34m:\u001b[0m\u001b[0;34m\u001b[0m\u001b[0;34m\u001b[0m\u001b[0m\n\u001b[1;32m    228\u001b[0m         \u001b[0m_load_global_deps\u001b[0m\u001b[0;34m(\u001b[0m\u001b[0;34m)\u001b[0m\u001b[0;34m\u001b[0m\u001b[0;34m\u001b[0m\u001b[0m\n\u001b[0;32m--> 229\u001b[0;31m     \u001b[0;32mfrom\u001b[0m \u001b[0mtorch\u001b[0m\u001b[0;34m.\u001b[0m\u001b[0m_C\u001b[0m \u001b[0;32mimport\u001b[0m \u001b[0;34m*\u001b[0m  \u001b[0;31m# noqa: F403\u001b[0m\u001b[0;34m\u001b[0m\u001b[0;34m\u001b[0m\u001b[0m\n\u001b[0m\u001b[1;32m    230\u001b[0m \u001b[0;34m\u001b[0m\u001b[0m\n\u001b[1;32m    231\u001b[0m \u001b[0;31m# Appease the type checker; ordinarily this binding is inserted by the\u001b[0m\u001b[0;34m\u001b[0m\u001b[0;34m\u001b[0m\u001b[0;34m\u001b[0m\u001b[0m\n",
      "\u001b[0;31mImportError\u001b[0m: /opt/conda/lib/python3.8/site-packages/torch/lib/libtorch_cuda.so: undefined symbol: cusparseSpSM_analysis, version libcusparse.so.11"
     ]
    }
   ],
   "source": [
    "import torch\n",
    "from torch.nn import functional as F\n",
    "from torch import nn\n",
    "from torch.utils.data import TensorDataset, DataLoader\n",
    "\n",
    "from torchvision import datasets, transforms\n",
    "\n",
    "import lightning.pytorch as pl\n",
    "from torchmetrics.functional.classification.accuracy import accuracy"
   ]
  },
  {
   "cell_type": "markdown",
   "metadata": {
    "id": "igBquofZGQUC"
   },
   "source": [
    "## klasa QuickDrawCNN_PL\n",
    "\n",
    "- [ ] Zamień dane na Tensory\n",
    "- [ ] Przekonwertuj dane do formatu NCHW z NHWC\n",
    "- [ ] Zapewnij odpowiedni typ danych dla etykiet\n",
    "- [ ] Przygotuj zbiór danych - skorzystaj z `TensorDataset`\n",
    "- [ ] Zaprojektuj architekturę sieci z minimum 1 warstwą konwolucyjną"
   ]
  },
  {
   "cell_type": "code",
   "execution_count": 5,
   "metadata": {
    "ExecuteTime": {
     "end_time": "2023-07-10T11:44:09.908326Z",
     "start_time": "2023-07-10T11:44:09.887737Z"
    },
    "id": "ktGNf24BGQUD"
   },
   "outputs": [
    {
     "ename": "NameError",
     "evalue": "name 'LightningModule' is not defined",
     "output_type": "error",
     "traceback": [
      "\u001b[0;31m---------------------------------------------------------------------------\u001b[0m",
      "\u001b[0;31mNameError\u001b[0m                                 Traceback (most recent call last)",
      "\u001b[0;32m<ipython-input-5-608ab9ff3769>\u001b[0m in \u001b[0;36m<module>\u001b[0;34m\u001b[0m\n\u001b[0;32m----> 1\u001b[0;31m \u001b[0;32mclass\u001b[0m \u001b[0mQuickDrawCNN_PL\u001b[0m\u001b[0;34m(\u001b[0m\u001b[0mLightningModule\u001b[0m\u001b[0;34m)\u001b[0m\u001b[0;34m:\u001b[0m\u001b[0;34m\u001b[0m\u001b[0;34m\u001b[0m\u001b[0m\n\u001b[0m\u001b[1;32m      2\u001b[0m     \u001b[0;32mdef\u001b[0m \u001b[0m__init__\u001b[0m\u001b[0;34m(\u001b[0m\u001b[0mself\u001b[0m\u001b[0;34m,\u001b[0m \u001b[0mX_train\u001b[0m\u001b[0;34m,\u001b[0m\u001b[0my_train\u001b[0m\u001b[0;34m,\u001b[0m\u001b[0mX_val\u001b[0m\u001b[0;34m,\u001b[0m\u001b[0my_val\u001b[0m\u001b[0;34m,\u001b[0m \u001b[0mbatch_size\u001b[0m\u001b[0;34m)\u001b[0m\u001b[0;34m:\u001b[0m\u001b[0;34m\u001b[0m\u001b[0;34m\u001b[0m\u001b[0m\n\u001b[1;32m      3\u001b[0m         \u001b[0msuper\u001b[0m\u001b[0;34m(\u001b[0m\u001b[0;34m)\u001b[0m\u001b[0;34m.\u001b[0m\u001b[0m__init__\u001b[0m\u001b[0;34m(\u001b[0m\u001b[0;34m)\u001b[0m\u001b[0;34m\u001b[0m\u001b[0;34m\u001b[0m\u001b[0m\n\u001b[1;32m      4\u001b[0m \u001b[0;34m\u001b[0m\u001b[0m\n\u001b[1;32m      5\u001b[0m         \u001b[0mself\u001b[0m\u001b[0;34m.\u001b[0m\u001b[0mX_train\u001b[0m \u001b[0;34m=\u001b[0m \u001b[0mtorch\u001b[0m\u001b[0;34m.\u001b[0m\u001b[0mFloatTensor\u001b[0m\u001b[0;34m(\u001b[0m\u001b[0mX_train\u001b[0m\u001b[0;34m)\u001b[0m\u001b[0;34m.\u001b[0m\u001b[0mpermute\u001b[0m\u001b[0;34m(\u001b[0m\u001b[0;36m0\u001b[0m\u001b[0;34m,\u001b[0m \u001b[0;36m3\u001b[0m\u001b[0;34m,\u001b[0m \u001b[0;36m1\u001b[0m\u001b[0;34m,\u001b[0m \u001b[0;36m2\u001b[0m\u001b[0;34m)\u001b[0m\u001b[0;34m\u001b[0m\u001b[0;34m\u001b[0m\u001b[0m\n",
      "\u001b[0;31mNameError\u001b[0m: name 'LightningModule' is not defined"
     ]
    }
   ],
   "source": [
    "class QuickDrawCNN_PL(pl.LightningModule):\n",
    "    def __init__(self, X_train,y_train,X_val,y_val, batch_size):\n",
    "        super().__init__()\n",
    "\n",
    "        self.X_train = torch.FloatTensor(X_train).permute(0, 3, 1, 2)\n",
    "        self.X_val = torch.FloatTensor(X_val).permute(0, 3, 1, 2)\n",
    "        self.y_train = torch.LongTensor(y_train)\n",
    "        self.y_val = torch.LongTensor(y_val)\n",
    "        self.train_dataset = TensorDataset(self.X_train, self.y_train)\n",
    "        self.val_dataset = TensorDataset(self.X_val, self.y_val)\n",
    "\n",
    "        self.batch_size = batch_size\n",
    "\n",
    "        ####################\n",
    "        ### Don't chagne ###\n",
    "        assert type(self.X_train)==torch.Tensor\n",
    "        assert self.X_train.shape==torch.Size([len(X_train), 1, 28, 28])\n",
    "        assert self.X_train.dtype==torch.float32, \"Typ X_train niepoprawny\"\n",
    "\n",
    "        assert type(self.y_train)==torch.Tensor\n",
    "        assert self.y_train.shape==torch.Size([len(X_train)])\n",
    "        assert self.y_train.dtype==torch.int64, \"Typ y_train niepoprawny\"\n",
    "\n",
    "        assert type(self.X_val)==torch.Tensor\n",
    "        assert self.X_val.shape==torch.Size([len(X_val), 1, 28, 28])\n",
    "        assert self.X_val.dtype==torch.float32, \"Typ X_val niepoprawny\"\n",
    "\n",
    "        assert type(self.y_val)==torch.Tensor\n",
    "        assert self.y_val.shape==torch.Size([len(y_val)])\n",
    "        assert self.y_val.dtype==torch.int64, \"Typ y_val niepoprawny\"\n",
    "        ### Don't chagne ###\n",
    "        ####################\n",
    "\n",
    "\n",
    "        self.num_classes = 10\n",
    "        self.dims = (1, 28, 28)\n",
    "        channels, width, height = self.dims\n",
    "\n",
    "        self.model = nn.Sequential(\n",
    "            nn.Conv2d(channels, 8, 3),\n",
    "            nn.ReLU(),\n",
    "            nn.Conv2d(8, 16, 3),\n",
    "            nn.ReLU(),\n",
    "            nn.Conv2d(16, 16, 3),\n",
    "            nn.ReLU(),\n",
    "            nn.Flatten(),\n",
    "            nn.Linear(7744, self.num_classes), # ustawilem 7744, w przeciwnym razie nie\n",
    "        )\n",
    "\n",
    "        ####################\n",
    "        ### Don't chagne ###\n",
    "        assert any(['Conv2d' in str(_) for _ in self.model]), \"Zastosuj przynajmniej jedną warstwę Conv2d\"\n",
    "        assert len([_ for _ in self.model if 'Conv2d' in str(_)])==len([_ for _ in self.model if 'ReLU' in str(_)]), \"Po każdej warstwie Conv2d zastosuj funkcję aktywacji ReLU\"\n",
    "        ### Don't chagne ###\n",
    "        ####################\n",
    "    def forward(self, x):\n",
    "        x = self.model(x)\n",
    "        return F.log_softmax(x, dim=1)\n",
    "\n",
    "    def training_step(self, batch, batch_idx):\n",
    "        x, y = batch\n",
    "        logits = self(x)\n",
    "        loss = F.nll_loss(logits, y)\n",
    "        return loss\n",
    "\n",
    "    def configure_optimizers(self):\n",
    "        return torch.optim.Adam(self.parameters(), lr=1e-3)\n",
    "\n",
    "    def validation_step(self, batch, batch_idx):\n",
    "        x, y = batch\n",
    "        logits = self(x)\n",
    "        loss = F.nll_loss(logits, y)\n",
    "        preds = torch.argmax(logits, dim=1)\n",
    "        acc = accuracy(preds, y, task=\"multiclass\", num_classes=self.num_classes)\n",
    "\n",
    "        # Calling self.log will surface up scalars for you in TensorBoard\n",
    "        self.log('val_loss', loss, prog_bar=True)\n",
    "        self.log('val_acc', acc, prog_bar=True)\n",
    "        return loss\n",
    "\n",
    "    def test_step(self, batch, batch_idx):\n",
    "        # Here we just reuse the validation_step for testing\n",
    "        return self.validation_step(batch, batch_idx)\n",
    "\n",
    "    def train_dataloader(self):\n",
    "        return DataLoader(self.train_dataset, batch_size=self.batch_size)#, num_workers=12)\n",
    "\n",
    "    def val_dataloader(self):\n",
    "        return DataLoader(self.val_dataset, batch_size=self.batch_size)#, num_workers=12)"
   ]
  },
  {
   "cell_type": "markdown",
   "metadata": {
    "id": "BpELsZIcGQUD"
   },
   "source": [
    "### Trening\n",
    "\n",
    "- [x] Uruchom trening na 10 epok\n",
    "- [x] Batch size ustaw na wartość np. od 32 do 256 (możesz mniej, możesz więcej)\n",
    "- [x] Utwórz instancję klasy QuickDrawCNN_PL\n",
    "- [x] Przygotuj `Trainer`\n",
    "- [x] Uruchom trening"
   ]
  },
  {
   "cell_type": "code",
   "execution_count": null,
   "metadata": {
    "ExecuteTime": {
     "start_time": "2023-07-10T11:34:06.539Z"
    },
    "id": "V3b1lq6iGQUD",
    "scrolled": false
   },
   "outputs": [],
   "source": [
    "model = QuickDrawCNN_PL(X_train,y_train,X_val,y_val, 128)\n",
    "trainer = pl.Trainer(\n",
    "    max_epochs=10,\n",
    "    gpus=1)\n",
    "trainer.fit(model)"
   ]
  },
  {
   "cell_type": "markdown",
   "metadata": {
    "id": "RaCprSThGQUD"
   },
   "source": [
    "### Uruchom TensorBoard do wizualizacji wyników"
   ]
  },
  {
   "cell_type": "code",
   "execution_count": null,
   "metadata": {
    "ExecuteTime": {
     "start_time": "2023-07-10T11:34:06.540Z"
    },
    "id": "4WYLNmlLGQUD"
   },
   "outputs": [],
   "source": [
    "%load_ext tensorboard\n",
    "%tensorboard --logdir lightning_logs/"
   ]
  },
  {
   "cell_type": "markdown",
   "metadata": {
    "id": "c99LfjQmGQUD"
   },
   "source": [
    "# Wyślij rozwiązanie\n",
    "Możesz skorzystać z jednego z poniższych sposobów:\n",
    "**mailem na specjalny adres** ze strony pracy domowej w panelu programu prześlij jedno z poniższych:\n",
    "- notebooka (jeżeli plik ma mniej niż np. 10MB)\n",
    "- notebooka w zipie\n",
    "- link do Colaba (udostępniony)\n",
    "- link do pliku przez GDrive/Dropboxa/WeTransfer/...\n",
    "- pdfa (poprzez download as pdf)\n",
    "- jako plik w repozytorium na np. GitHubie, by budować swoje portfolio (wtedy uważaj na wielkość pliku, najlepiej kilka MB, Max 25MB)\n",
    "\n",
    "Najlepiej, by w notebooku było widać wyniki uruchomienia komórek, chyba, że przez nie plik będzie mieć 100+MB wtedy najlepiej Colab lub jakieś przemyślenie co poszło nie tak (zbyt dużo dużych zdjęć wyświetlonych w komórkach).\n",
    "\n",
    "## Co otrzymasz?\n",
    "Informację zwrotną z ewentualnymi sugestiami, komentarzami."
   ]
  }
 ],
 "metadata": {
  "accelerator": "GPU",
  "colab": {
   "gpuClass": "premium",
   "gpuType": "T4",
   "machine_shape": "hm",
   "provenance": []
  },
  "gpuClass": "premium",
  "kernelspec": {
   "display_name": "Python 3",
   "language": "python",
   "name": "python3"
  },
  "language_info": {
   "codemirror_mode": {
    "name": "ipython",
    "version": 3
   },
   "file_extension": ".py",
   "mimetype": "text/x-python",
   "name": "python",
   "nbconvert_exporter": "python",
   "pygments_lexer": "ipython3",
   "version": "3.8.10"
  },
  "toc": {
   "base_numbering": 1,
   "nav_menu": {},
   "number_sections": false,
   "sideBar": true,
   "skip_h1_title": false,
   "title_cell": "Table of Contents",
   "title_sidebar": "Contents",
   "toc_cell": false,
   "toc_position": {},
   "toc_section_display": true,
   "toc_window_display": false
  }
 },
 "nbformat": 4,
 "nbformat_minor": 1
}

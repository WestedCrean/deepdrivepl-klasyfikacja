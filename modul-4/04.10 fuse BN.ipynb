{
 "cells": [
  {
   "cell_type": "markdown",
   "metadata": {},
   "source": [
    "# Fuse BN with conv\n",
    "\n",
    "Source: https://nenadmarkus.com/p/fusing-batchnorm-and-conv/"
   ]
  },
  {
   "cell_type": "code",
   "execution_count": 1,
   "metadata": {},
   "outputs": [],
   "source": [
    "import torch\n",
    "import torchvision"
   ]
  },
  {
   "cell_type": "code",
   "execution_count": 2,
   "metadata": {},
   "outputs": [],
   "source": [
    "def fuse_conv_and_bn(conv, bn):\n",
    "    fusedconv = torch.nn.Conv2d(\n",
    "        conv.in_channels,             # tyle samo co w wejściowej konwolucji\n",
    "        conv.out_channels,            # tyle samo co w wejściowej konwolucji\n",
    "        kernel_size=conv.kernel_size, # tyle samo co w wejściowej konwolucji\n",
    "        stride=conv.stride,           # tyle samo co w wejściowej konwolucji\n",
    "        padding=conv.padding,         # tyle samo co w wejściowej konwolucji\n",
    "        bias=True\n",
    "    )\n",
    "    \n",
    "    w_conv = conv.weight.clone().view(conv.out_channels, -1)                       # wagi W_Conv\n",
    "    \n",
    "    w_bn = torch.diag(bn.weight.div(torch.sqrt(bn.eps+bn.running_var)))            # wagi W_BN\n",
    "    \n",
    "    fusedconv.weight.copy_( torch.mm(w_bn, w_conv).view(fusedconv.weight.size()) ) # nowe wagi W_BN * W_Conv\n",
    "    \n",
    "    if conv.bias is not None:\n",
    "        b_conv = conv.bias                          # kopia biasu jeżeli istnieje\n",
    "    else:\n",
    "        b_conv = torch.zeros( conv.weight.size(0) ) # bias=0 gdy nie był używany\n",
    "    \n",
    "    b_bn = bn.bias - bn.weight.mul(bn.running_mean).div(torch.sqrt(bn.running_var + bn.eps)) # Bias dla BN\n",
    "    \n",
    "    fusedconv.bias.copy_( b_conv + b_bn )\n",
    "    return fusedconv"
   ]
  },
  {
   "cell_type": "code",
   "execution_count": 3,
   "metadata": {},
   "outputs": [
    {
     "name": "stdout",
     "output_type": "stream",
     "text": [
      "error: 0.00000030\n"
     ]
    }
   ],
   "source": [
    "with torch.no_grad():\n",
    "    r18 = torchvision.models.resnet18(pretrained=True)\n",
    "\n",
    "    x = torch.randn(16, 3, 256, 256)\n",
    "    r18.eval()\n",
    "    \n",
    "    net = torch.nn.Sequential(\n",
    "        r18.conv1,\n",
    "        r18.bn1\n",
    "    )\n",
    "    \n",
    "    original_output = net.forward(x)\n",
    "    \n",
    "    fusedconv = fuse_conv_and_bn(net[0], net[1])\n",
    "    fused_output = fusedconv.forward(x)\n",
    "    \n",
    "    diff = (original_output - fused_output).norm().div(original_output.norm()).item()\n",
    "    print(\"error: %.8f\" % diff)"
   ]
  }
 ],
 "metadata": {
  "kernelspec": {
   "display_name": "Python 3",
   "language": "python",
   "name": "python3"
  },
  "language_info": {
   "codemirror_mode": {
    "name": "ipython",
    "version": 3
   },
   "file_extension": ".py",
   "mimetype": "text/x-python",
   "name": "python",
   "nbconvert_exporter": "python",
   "pygments_lexer": "ipython3",
   "version": "3.7.6"
  }
 },
 "nbformat": 4,
 "nbformat_minor": 4
}

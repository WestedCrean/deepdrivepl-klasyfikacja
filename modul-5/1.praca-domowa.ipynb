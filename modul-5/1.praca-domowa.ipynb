{
 "cells": [
  {
   "cell_type": "markdown",
   "metadata": {},
   "source": [
    "# DDPLKO Moduł 5 - praca domowa - Transfer Learning\n",
    "\n",
    "To piąta praca domowa w Programie szkoleniowym Klasyfikacja obrazu od Deep Drive PL\n",
    "\n",
    "Twoim zadaniem w tym module będzie:\n",
    "- [ ] wybór zbioru danych:\n",
    "  - [ ] RESISC45 (https://www.tensorflow.org/datasets/catalog/resisc45) - w pytorchu możesz wczytać po rozpakowaniu lub skorzystać z TFDS jak w lekcji (w przypadku ograniczonych zasobów wybierz 10 klas z tego zbioru)\n",
    "  - [ ] RSCM (http://vcc.szu.edu.cn/research/2017/RSCM.html download link: http://vcc.szu.edu.cn/file/upload_file/0/58/weboem_informations/classification.zip)\n",
    "  - [ ] własny problem ze zdjeciami (najlepiej) RGB o wymiarach >=224px, minimum 4 klasy, minimum 1000 zdjęć\n",
    "- [ ] Podziel zbiór w stosunku train:val 70:30 (stratified)\n",
    "- [ ] Wykonaj krótką prezentację danych - liczebności, przykłady\n",
    "- [ ] Wybierz framework - TensorFlow bądź PyTorch\n",
    "- [ ] Wybierz pretrenowany model - skorzystaj z jednego z repozytoriów modeli\n",
    "- [ ] Zaprezentuj summary dla modelu\n",
    "- [ ] Przygotuj model - zamroź wagi oprócz klasyfikatora\n",
    "- [ ] Zaprezentuj summary dla modelu z zamrożonymi wagami\n",
    "- [ ] W treningach zapisuj wyniki do TensorBoarda\n",
    "- [ ] Wykonaj trening zamrażając warstwy ekstrkcji cech\n",
    "- [ ] Wykonaj fine-tuning całej sieci lub większego fragmentu (nie tylko klasyfikator)\n",
    "- [ ] Udostępnij screenshot z TB na Discordzie `#klasyfikacja-wyniki` (val acc)\n",
    "\n",
    "Możesz (czyli opcjonalne rzeczy):\n",
    "- wybrać mały model typu np. MobileNet\n",
    "- Wykonać eksperymenty i dobrać optymalizator, LR używając LR Finder oraz LR scheduler\n",
    "- Sprawdzić więcej niż 1 model\n",
    "- Sprawdzić dodatkowe warstwy Dense/Linear w klasyfikatorze\n",
    "- Spróbować treningu bez transfer learningu\n",
    "- zwizualizować dodatkowo:\n",
    "  - confussion matrix\n",
    "  - błędne przypadki"
   ]
  },
  {
   "cell_type": "markdown",
   "metadata": {},
   "source": [
    "# Zbiór danych"
   ]
  },
  {
   "cell_type": "code",
   "execution_count": null,
   "metadata": {},
   "outputs": [],
   "source": []
  },
  {
   "cell_type": "markdown",
   "metadata": {},
   "source": [
    "## Podział zbioru"
   ]
  },
  {
   "cell_type": "code",
   "execution_count": null,
   "metadata": {},
   "outputs": [],
   "source": []
  },
  {
   "cell_type": "markdown",
   "metadata": {},
   "source": [
    "## Wizualizacja danych"
   ]
  },
  {
   "cell_type": "code",
   "execution_count": null,
   "metadata": {},
   "outputs": [],
   "source": []
  },
  {
   "cell_type": "markdown",
   "metadata": {},
   "source": [
    "# Model\n",
    "\n",
    "## Wybór modelu + summary"
   ]
  },
  {
   "cell_type": "code",
   "execution_count": null,
   "metadata": {},
   "outputs": [],
   "source": []
  },
  {
   "cell_type": "markdown",
   "metadata": {},
   "source": [
    "## Freezed model + summary"
   ]
  },
  {
   "cell_type": "code",
   "execution_count": null,
   "metadata": {},
   "outputs": [],
   "source": []
  },
  {
   "cell_type": "markdown",
   "metadata": {},
   "source": [
    "# TensorBoard"
   ]
  },
  {
   "cell_type": "code",
   "execution_count": null,
   "metadata": {},
   "outputs": [],
   "source": []
  },
  {
   "cell_type": "markdown",
   "metadata": {},
   "source": [
    "# Training"
   ]
  },
  {
   "cell_type": "code",
   "execution_count": null,
   "metadata": {},
   "outputs": [],
   "source": []
  },
  {
   "cell_type": "markdown",
   "metadata": {},
   "source": [
    "## Training freezed model"
   ]
  },
  {
   "cell_type": "code",
   "execution_count": null,
   "metadata": {},
   "outputs": [],
   "source": []
  },
  {
   "cell_type": "markdown",
   "metadata": {},
   "source": [
    "## Unfreeze model"
   ]
  },
  {
   "cell_type": "code",
   "execution_count": null,
   "metadata": {},
   "outputs": [],
   "source": []
  },
  {
   "cell_type": "markdown",
   "metadata": {},
   "source": [
    "## Fine tuning"
   ]
  },
  {
   "cell_type": "code",
   "execution_count": null,
   "metadata": {},
   "outputs": [],
   "source": []
  },
  {
   "cell_type": "markdown",
   "metadata": {},
   "source": [
    "# Summmary / extra"
   ]
  },
  {
   "cell_type": "code",
   "execution_count": null,
   "metadata": {},
   "outputs": [],
   "source": []
  },
  {
   "cell_type": "markdown",
   "metadata": {},
   "source": [
    "# Wyślij rozwiązanie\n",
    "Możesz skorzystać z jednego z poniższych sposobów:\n",
    "**mailem na specjalny adres** ze strony pracy domowej w panelu programu prześlij jedno z poniższych:\n",
    "- notebooka (jeżeli plik ma mniej niż np. 10MB)\n",
    "- notebooka w zipie\n",
    "- link do Colaba (udostępniony)\n",
    "- link do pliku przez GDrive/Dropboxa/WeTransfer/...\n",
    "- pdfa (poprzez download as pdf)\n",
    "- jako plik w repozytorium na np. GitHubie, by budować swoje portfolio (wtedy uważaj na wielkość pliku, najlepiej kilka MB, Max 25MB)\n",
    "\n",
    "Najlepiej, by w notebooku było widać wyniki uruchomienia komórek, chyba, że przez nie plik będzie mieć 100+MB wtedy najlepiej Colab lub jakieś przemyślenie co poszło nie tak (zbyt dużo dużych zdjęć wyświetlonych w komórkach).\n",
    "\n",
    "## Co otrzymasz?\n",
    "Informację zwrotną z ewentualnymi sugestiami, komentarzami."
   ]
  }
 ],
 "metadata": {
  "kernelspec": {
   "display_name": "Python 3",
   "language": "python",
   "name": "python3"
  },
  "language_info": {
   "codemirror_mode": {
    "name": "ipython",
    "version": 3
   },
   "file_extension": ".py",
   "mimetype": "text/x-python",
   "name": "python",
   "nbconvert_exporter": "python",
   "pygments_lexer": "ipython3",
   "version": "3.7.7"
  }
 },
 "nbformat": 4,
 "nbformat_minor": 4
}
